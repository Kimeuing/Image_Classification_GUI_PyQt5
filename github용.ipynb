{
 "cells": [
  {
   "cell_type": "code",
   "execution_count": 1,
   "id": "6ee0e1c8",
   "metadata": {
    "scrolled": false
   },
   "outputs": [
    {
     "name": "stderr",
     "output_type": "stream",
     "text": [
      "C:\\Users\\dbwnd\\Desktop\\활동 정리\\깃허브용\\Res21.py:62: RuntimeWarning: More than 20 figures have been opened. Figures created through the pyplot interface (`matplotlib.pyplot.figure`) are retained until explicitly closed and may consume too much memory. (To control this warning, see the rcParam `figure.max_open_warning`). Consider using `matplotlib.pyplot.close()`.\n",
      "  fig = plt.figure()\n"
     ]
    },
    {
     "ename": "AttributeError",
     "evalue": "'WindowClass' object has no attribute 'searchbox'",
     "output_type": "error",
     "traceback": [
      "\u001b[1;31m---------------------------------------------------------------------------\u001b[0m",
      "\u001b[1;31mAttributeError\u001b[0m                            Traceback (most recent call last)",
      "Cell \u001b[1;32mIn[1], line 140\u001b[0m, in \u001b[0;36mWindowClass.reset_event\u001b[1;34m(self)\u001b[0m\n\u001b[0;32m    138\u001b[0m \u001b[38;5;28mself\u001b[39m\u001b[38;5;241m.\u001b[39mPath\u001b[38;5;241m.\u001b[39mclear()        \n\u001b[0;32m    139\u001b[0m \u001b[38;5;28mself\u001b[39m\u001b[38;5;241m.\u001b[39mimage_label2\u001b[38;5;241m.\u001b[39mclear()\n\u001b[1;32m--> 140\u001b[0m \u001b[38;5;28;43mself\u001b[39;49m\u001b[38;5;241;43m.\u001b[39;49m\u001b[43msearchbox\u001b[49m\u001b[38;5;241m.\u001b[39mclear()\n\u001b[0;32m    141\u001b[0m \u001b[38;5;28mself\u001b[39m\u001b[38;5;241m.\u001b[39mNGLine\u001b[38;5;241m.\u001b[39mclear()\n",
      "\u001b[1;31mAttributeError\u001b[0m: 'WindowClass' object has no attribute 'searchbox'"
     ]
    },
    {
     "ename": "AttributeError",
     "evalue": "'NoneType' object has no attribute 'text'",
     "output_type": "error",
     "traceback": [
      "\u001b[1;31m---------------------------------------------------------------------------\u001b[0m",
      "\u001b[1;31mAttributeError\u001b[0m                            Traceback (most recent call last)",
      "Cell \u001b[1;32mIn[1], line 340\u001b[0m, in \u001b[0;36mWindowClass.cellchanged_event\u001b[1;34m(self, row, column)\u001b[0m\n\u001b[0;32m    338\u001b[0m data3 \u001b[38;5;241m=\u001b[39m \u001b[38;5;28mself\u001b[39m\u001b[38;5;241m.\u001b[39mtableWidget\u001b[38;5;241m.\u001b[39mitem(row,\u001b[38;5;28mint\u001b[39m(column\u001b[38;5;241m-\u001b[39m\u001b[38;5;241m1\u001b[39m))\n\u001b[0;32m    339\u001b[0m data3 \u001b[38;5;241m=\u001b[39m data3\u001b[38;5;241m.\u001b[39mtext()\n\u001b[1;32m--> 340\u001b[0m data \u001b[38;5;241m=\u001b[39m \u001b[43mdata\u001b[49m\u001b[38;5;241;43m.\u001b[39;49m\u001b[43mtext\u001b[49m()\n\u001b[0;32m    341\u001b[0m data2 \u001b[38;5;241m=\u001b[39m \u001b[38;5;28mself\u001b[39m\u001b[38;5;241m.\u001b[39mPath\u001b[38;5;241m.\u001b[39mtext()\u001b[38;5;241m+\u001b[39m\u001b[38;5;124m'\u001b[39m\u001b[38;5;124m/\u001b[39m\u001b[38;5;124m'\u001b[39m\u001b[38;5;241m+\u001b[39m\u001b[38;5;28mstr\u001b[39m(data)\n\u001b[0;32m    342\u001b[0m pic \u001b[38;5;241m=\u001b[39m QPixmap(data2)\n",
      "\u001b[1;31mAttributeError\u001b[0m: 'NoneType' object has no attribute 'text'"
     ]
    },
    {
     "ename": "AttributeError",
     "evalue": "'WindowClass' object has no attribute 'searchbox'",
     "output_type": "error",
     "traceback": [
      "\u001b[1;31m---------------------------------------------------------------------------\u001b[0m",
      "\u001b[1;31mAttributeError\u001b[0m                            Traceback (most recent call last)",
      "Cell \u001b[1;32mIn[1], line 140\u001b[0m, in \u001b[0;36mWindowClass.reset_event\u001b[1;34m(self)\u001b[0m\n\u001b[0;32m    138\u001b[0m \u001b[38;5;28mself\u001b[39m\u001b[38;5;241m.\u001b[39mPath\u001b[38;5;241m.\u001b[39mclear()        \n\u001b[0;32m    139\u001b[0m \u001b[38;5;28mself\u001b[39m\u001b[38;5;241m.\u001b[39mimage_label2\u001b[38;5;241m.\u001b[39mclear()\n\u001b[1;32m--> 140\u001b[0m \u001b[38;5;28;43mself\u001b[39;49m\u001b[38;5;241;43m.\u001b[39;49m\u001b[43msearchbox\u001b[49m\u001b[38;5;241m.\u001b[39mclear()\n\u001b[0;32m    141\u001b[0m \u001b[38;5;28mself\u001b[39m\u001b[38;5;241m.\u001b[39mNGLine\u001b[38;5;241m.\u001b[39mclear()\n",
      "\u001b[1;31mAttributeError\u001b[0m: 'WindowClass' object has no attribute 'searchbox'"
     ]
    },
    {
     "name": "stderr",
     "output_type": "stream",
     "text": [
      "C:\\Users\\dbwnd\\anaconda3\\envs\\21CPRO\\lib\\site-packages\\IPython\\core\\events.py:89: UserWarning: Glyph 48520 (\\N{HANGUL SYLLABLE BUL}) missing from current font.\n",
      "  func(*args, **kwargs)\n",
      "C:\\Users\\dbwnd\\anaconda3\\envs\\21CPRO\\lib\\site-packages\\IPython\\core\\events.py:89: UserWarning: Glyph 47049 (\\N{HANGUL SYLLABLE RYANG}) missing from current font.\n",
      "  func(*args, **kwargs)\n",
      "C:\\Users\\dbwnd\\anaconda3\\envs\\21CPRO\\lib\\site-packages\\IPython\\core\\events.py:89: UserWarning: Glyph 50976 (\\N{HANGUL SYLLABLE YU}) missing from current font.\n",
      "  func(*args, **kwargs)\n",
      "C:\\Users\\dbwnd\\anaconda3\\envs\\21CPRO\\lib\\site-packages\\IPython\\core\\events.py:89: UserWarning: Glyph 54805 (\\N{HANGUL SYLLABLE HYEONG}) missing from current font.\n",
      "  func(*args, **kwargs)\n"
     ]
    },
    {
     "data": {
      "text/plain": [
       "<Figure size 640x480 with 0 Axes>"
      ]
     },
     "metadata": {},
     "output_type": "display_data"
    },
    {
     "data": {
      "text/plain": [
       "<Figure size 640x480 with 0 Axes>"
      ]
     },
     "metadata": {},
     "output_type": "display_data"
    },
    {
     "data": {
      "text/plain": [
       "<Figure size 640x480 with 0 Axes>"
      ]
     },
     "metadata": {},
     "output_type": "display_data"
    },
    {
     "data": {
      "text/plain": [
       "<Figure size 640x480 with 0 Axes>"
      ]
     },
     "metadata": {},
     "output_type": "display_data"
    },
    {
     "data": {
      "text/plain": [
       "<Figure size 640x480 with 0 Axes>"
      ]
     },
     "metadata": {},
     "output_type": "display_data"
    },
    {
     "data": {
      "text/plain": [
       "<Figure size 640x480 with 0 Axes>"
      ]
     },
     "metadata": {},
     "output_type": "display_data"
    },
    {
     "data": {
      "text/plain": [
       "<Figure size 640x480 with 0 Axes>"
      ]
     },
     "metadata": {},
     "output_type": "display_data"
    },
    {
     "data": {
      "text/plain": [
       "<Figure size 640x480 with 0 Axes>"
      ]
     },
     "metadata": {},
     "output_type": "display_data"
    },
    {
     "data": {
      "text/plain": [
       "<Figure size 640x480 with 0 Axes>"
      ]
     },
     "metadata": {},
     "output_type": "display_data"
    },
    {
     "data": {
      "text/plain": [
       "<Figure size 640x480 with 0 Axes>"
      ]
     },
     "metadata": {},
     "output_type": "display_data"
    },
    {
     "data": {
      "text/plain": [
       "<Figure size 640x480 with 0 Axes>"
      ]
     },
     "metadata": {},
     "output_type": "display_data"
    },
    {
     "data": {
      "text/plain": [
       "<Figure size 640x480 with 0 Axes>"
      ]
     },
     "metadata": {},
     "output_type": "display_data"
    },
    {
     "data": {
      "text/plain": [
       "<Figure size 640x480 with 0 Axes>"
      ]
     },
     "metadata": {},
     "output_type": "display_data"
    },
    {
     "data": {
      "text/plain": [
       "<Figure size 640x480 with 0 Axes>"
      ]
     },
     "metadata": {},
     "output_type": "display_data"
    },
    {
     "data": {
      "text/plain": [
       "<Figure size 640x480 with 0 Axes>"
      ]
     },
     "metadata": {},
     "output_type": "display_data"
    },
    {
     "data": {
      "text/plain": [
       "<Figure size 640x480 with 0 Axes>"
      ]
     },
     "metadata": {},
     "output_type": "display_data"
    },
    {
     "data": {
      "text/plain": [
       "<Figure size 640x480 with 0 Axes>"
      ]
     },
     "metadata": {},
     "output_type": "display_data"
    },
    {
     "data": {
      "text/plain": [
       "<Figure size 640x480 with 0 Axes>"
      ]
     },
     "metadata": {},
     "output_type": "display_data"
    },
    {
     "data": {
      "text/plain": [
       "<Figure size 640x480 with 0 Axes>"
      ]
     },
     "metadata": {},
     "output_type": "display_data"
    },
    {
     "data": {
      "text/plain": [
       "<Figure size 640x480 with 0 Axes>"
      ]
     },
     "metadata": {},
     "output_type": "display_data"
    },
    {
     "data": {
      "text/plain": [
       "<Figure size 640x480 with 0 Axes>"
      ]
     },
     "metadata": {},
     "output_type": "display_data"
    },
    {
     "data": {
      "text/plain": [
       "<Figure size 640x480 with 0 Axes>"
      ]
     },
     "metadata": {},
     "output_type": "display_data"
    },
    {
     "data": {
      "text/plain": [
       "<Figure size 640x480 with 0 Axes>"
      ]
     },
     "metadata": {},
     "output_type": "display_data"
    },
    {
     "data": {
      "text/plain": [
       "<Figure size 640x480 with 0 Axes>"
      ]
     },
     "metadata": {},
     "output_type": "display_data"
    },
    {
     "data": {
      "text/plain": [
       "<Figure size 640x480 with 0 Axes>"
      ]
     },
     "metadata": {},
     "output_type": "display_data"
    },
    {
     "data": {
      "text/plain": [
       "<Figure size 640x480 with 0 Axes>"
      ]
     },
     "metadata": {},
     "output_type": "display_data"
    },
    {
     "data": {
      "text/plain": [
       "<Figure size 640x480 with 0 Axes>"
      ]
     },
     "metadata": {},
     "output_type": "display_data"
    },
    {
     "data": {
      "text/plain": [
       "<Figure size 640x480 with 0 Axes>"
      ]
     },
     "metadata": {},
     "output_type": "display_data"
    },
    {
     "data": {
      "text/plain": [
       "<Figure size 640x480 with 0 Axes>"
      ]
     },
     "metadata": {},
     "output_type": "display_data"
    },
    {
     "data": {
      "text/plain": [
       "<Figure size 640x480 with 0 Axes>"
      ]
     },
     "metadata": {},
     "output_type": "display_data"
    },
    {
     "data": {
      "text/plain": [
       "<Figure size 640x480 with 0 Axes>"
      ]
     },
     "metadata": {},
     "output_type": "display_data"
    },
    {
     "name": "stderr",
     "output_type": "stream",
     "text": [
      "C:\\Users\\dbwnd\\anaconda3\\envs\\21CPRO\\lib\\site-packages\\IPython\\core\\pylabtools.py:152: UserWarning: Glyph 48520 (\\N{HANGUL SYLLABLE BUL}) missing from current font.\n",
      "  fig.canvas.print_figure(bytes_io, **kw)\n",
      "C:\\Users\\dbwnd\\anaconda3\\envs\\21CPRO\\lib\\site-packages\\IPython\\core\\pylabtools.py:152: UserWarning: Glyph 47049 (\\N{HANGUL SYLLABLE RYANG}) missing from current font.\n",
      "  fig.canvas.print_figure(bytes_io, **kw)\n",
      "C:\\Users\\dbwnd\\anaconda3\\envs\\21CPRO\\lib\\site-packages\\IPython\\core\\pylabtools.py:152: UserWarning: Glyph 50976 (\\N{HANGUL SYLLABLE YU}) missing from current font.\n",
      "  fig.canvas.print_figure(bytes_io, **kw)\n",
      "C:\\Users\\dbwnd\\anaconda3\\envs\\21CPRO\\lib\\site-packages\\IPython\\core\\pylabtools.py:152: UserWarning: Glyph 54805 (\\N{HANGUL SYLLABLE HYEONG}) missing from current font.\n",
      "  fig.canvas.print_figure(bytes_io, **kw)\n"
     ]
    },
    {
     "data": {
      "image/png": "[encoded data removed]",
      "text/plain": [
       "<Figure size 640x480 with 32 Axes>"
      ]
     },
     "metadata": {},
     "output_type": "display_data"
    },
    {
     "data": {
      "text/plain": [
       "<Figure size 640x480 with 0 Axes>"
      ]
     },
     "metadata": {},
     "output_type": "display_data"
    },
    {
     "data": {
      "text/plain": [
       "<Figure size 640x480 with 0 Axes>"
      ]
     },
     "metadata": {},
     "output_type": "display_data"
    },
    {
     "data": {
      "text/plain": [
       "<Figure size 640x480 with 0 Axes>"
      ]
     },
     "metadata": {},
     "output_type": "display_data"
    },
    {
     "data": {
      "text/plain": [
       "<Figure size 640x480 with 0 Axes>"
      ]
     },
     "metadata": {},
     "output_type": "display_data"
    },
    {
     "data": {
      "text/plain": [
       "<Figure size 640x480 with 0 Axes>"
      ]
     },
     "metadata": {},
     "output_type": "display_data"
    },
    {
     "data": {
      "text/plain": [
       "<Figure size 640x480 with 0 Axes>"
      ]
     },
     "metadata": {},
     "output_type": "display_data"
    },
    {
     "data": {
      "text/plain": [
       "<Figure size 640x480 with 0 Axes>"
      ]
     },
     "metadata": {},
     "output_type": "display_data"
    },
    {
     "data": {
      "text/plain": [
       "<Figure size 640x480 with 0 Axes>"
      ]
     },
     "metadata": {},
     "output_type": "display_data"
    },
    {
     "data": {
      "text/plain": [
       "<Figure size 640x480 with 0 Axes>"
      ]
     },
     "metadata": {},
     "output_type": "display_data"
    },
    {
     "data": {
      "text/plain": [
       "<Figure size 640x480 with 0 Axes>"
      ]
     },
     "metadata": {},
     "output_type": "display_data"
    },
    {
     "data": {
      "text/plain": [
       "<Figure size 640x480 with 0 Axes>"
      ]
     },
     "metadata": {},
     "output_type": "display_data"
    },
    {
     "data": {
      "text/plain": [
       "<Figure size 640x480 with 0 Axes>"
      ]
     },
     "metadata": {},
     "output_type": "display_data"
    },
    {
     "data": {
      "text/plain": [
       "<Figure size 640x480 with 0 Axes>"
      ]
     },
     "metadata": {},
     "output_type": "display_data"
    },
    {
     "data": {
      "text/plain": [
       "<Figure size 640x480 with 0 Axes>"
      ]
     },
     "metadata": {},
     "output_type": "display_data"
    },
    {
     "data": {
      "text/plain": [
       "<Figure size 640x480 with 0 Axes>"
      ]
     },
     "metadata": {},
     "output_type": "display_data"
    },
    {
     "data": {
      "text/plain": [
       "<Figure size 640x480 with 0 Axes>"
      ]
     },
     "metadata": {},
     "output_type": "display_data"
    },
    {
     "data": {
      "text/plain": [
       "<Figure size 640x480 with 0 Axes>"
      ]
     },
     "metadata": {},
     "output_type": "display_data"
    },
    {
     "data": {
      "text/plain": [
       "<Figure size 640x480 with 0 Axes>"
      ]
     },
     "metadata": {},
     "output_type": "display_data"
    },
    {
     "data": {
      "text/plain": [
       "<Figure size 640x480 with 0 Axes>"
      ]
     },
     "metadata": {},
     "output_type": "display_data"
    },
    {
     "data": {
      "text/plain": [
       "<Figure size 640x480 with 0 Axes>"
      ]
     },
     "metadata": {},
     "output_type": "display_data"
    },
    {
     "data": {
      "text/plain": [
       "<Figure size 640x480 with 0 Axes>"
      ]
     },
     "metadata": {},
     "output_type": "display_data"
    },
    {
     "data": {
      "text/plain": [
       "<Figure size 640x480 with 0 Axes>"
      ]
     },
     "metadata": {},
     "output_type": "display_data"
    },
    {
     "data": {
      "text/plain": [
       "<Figure size 640x480 with 0 Axes>"
      ]
     },
     "metadata": {},
     "output_type": "display_data"
    },
    {
     "data": {
      "text/plain": [
       "<Figure size 640x480 with 0 Axes>"
      ]
     },
     "metadata": {},
     "output_type": "display_data"
    },
    {
     "data": {
      "text/plain": [
       "<Figure size 640x480 with 0 Axes>"
      ]
     },
     "metadata": {},
     "output_type": "display_data"
    },
    {
     "data": {
      "text/plain": [
       "<Figure size 640x480 with 0 Axes>"
      ]
     },
     "metadata": {},
     "output_type": "display_data"
    },
    {
     "data": {
      "text/plain": [
       "<Figure size 640x480 with 0 Axes>"
      ]
     },
     "metadata": {},
     "output_type": "display_data"
    },
    {
     "data": {
      "text/plain": [
       "<Figure size 640x480 with 0 Axes>"
      ]
     },
     "metadata": {},
     "output_type": "display_data"
    },
    {
     "data": {
      "text/plain": [
       "<Figure size 640x480 with 0 Axes>"
      ]
     },
     "metadata": {},
     "output_type": "display_data"
    },
    {
     "data": {
      "text/plain": [
       "<Figure size 640x480 with 0 Axes>"
      ]
     },
     "metadata": {},
     "output_type": "display_data"
    },
    {
     "data": {
      "text/plain": [
       "<Figure size 640x480 with 0 Axes>"
      ]
     },
     "metadata": {},
     "output_type": "display_data"
    },
    {
     "data": {
      "image/png": "[encoded data removed]",
      "text/plain": [
       "<Figure size 640x480 with 32 Axes>"
      ]
     },
     "metadata": {},
     "output_type": "display_data"
    }
   ],
   "source": [
    "import sys\n",
    "from PyQt5 import uic\n",
    "from PyQt5.QtWidgets import *\n",
    "from PyQt5.QtGui import *\n",
    "from PyQt5.QtCore import *\n",
    "import Res21\n",
    "import os\n",
    "import pandas as pd\n",
    "from fileinput import filename\n",
    "import sys\n",
    "\n",
    "#절대 경로로 변경시키기 위한 함수\n",
    "def resource_path(*relative_Path_AND_File):\n",
    "    \n",
    "    try:\n",
    "        # PyInstaller creates a temp folder and stores path in _MEIPASS\n",
    "        base_path = getattr(\n",
    "            sys,\n",
    "            '_MEIPASS',\n",
    "            os.path.dirname(os.path.abspath(__file__))\n",
    "        )\n",
    "        \n",
    "    except Exception:\n",
    "        base_path = os.path.abspath(\".\")\n",
    "\n",
    "    return os.path.join(base_path, *relative_Path_AND_File)\n",
    "#UI파일 선언\n",
    "form = resource_path(\"Runner.ui\")\n",
    "form_class = uic.loadUiType(form)[0]\n",
    "\n",
    "#GUI CLASS\n",
    "class WindowClass(QMainWindow, form_class):\n",
    "    def __init__(self):\n",
    "        super().__init__()\n",
    "#메뉴 창 설정 \n",
    "        self.resource_path = resource_path\n",
    "        self.setupUi(self)\n",
    "        self.setWindowTitle(\"이미지 분류 자동화 프로그램\")\n",
    "        self.menubar = self.findChild(QMenuBar,\"menubar\")\n",
    "        \n",
    "        Filemenu = self.menubar.addMenu(\"제품 선택\")\n",
    "        Foldermenu = self.menubar.addMenu(\"폴더 저장\")\n",
    "        저장경로= QAction('저장 경로',self)\n",
    "        Foldermenu.addAction(저장경로)\n",
    "        \n",
    "        저장경로.triggered.connect(self.save)\n",
    "        \n",
    "        제품1 = QAction('제품 1',self)\n",
    "        제품2 = QAction('제품 2',self)\n",
    "        제품1.triggered.connect(self.num1)\n",
    "        제품2.triggered.connect(self.num2)\n",
    "        \n",
    "        Filemenu.addAction(제품1)\n",
    "        Filemenu.addAction(제품2)\n",
    "        \n",
    "#버튼 기능 설정      \n",
    "        self.Path = self.findChild(QLineEdit,\"Path\")\n",
    "        self.Import = self.findChild(QPushButton,\"Import\")\n",
    "        self.Import.clicked.connect(self.getFolderName)\n",
    "        \n",
    "        \n",
    "\n",
    "        self.reset = self.findChild(QPushButton,\"reset\")\n",
    "        self.reset.clicked.connect(self.reset_event)\n",
    "        \n",
    "        self.Launch = self.findChild(QPushButton,\"Launch\")\n",
    "        self.Launch.clicked.connect(self.runRes)\n",
    "        \n",
    "        \n",
    "        self.image_label = self.findChild(QLabel, \"image_label\")\n",
    "        self.image_label2 = self.findChild(QLabel, \"Image_label2\")\n",
    "\n",
    "        self.comboBox = self.findChild(QComboBox,\"comboBox\")\n",
    "        \n",
    "        self.comboBox.addItem(\"전체\")\n",
    "        self.comboBox.addItem(\"불량 유형 1\")\n",
    "        self.comboBox.addItem(\"불량 유형 2\")\n",
    "        self.comboBox.addItem(\"불량 유형 3\")\n",
    "        \n",
    "\n",
    "        self.comboBox.activated[str].connect(self.onchanged)\n",
    "        \n",
    "\n",
    "        self.NormalLine = self.findChild(QLabel, \"NormalLine\") # 정상 개수\n",
    "        self.ERLine = self.findChild(QLabel,\"ERLine\") # ER 개수\n",
    "        self.NGLine = self.findChild(QLabel, \"NGLine\") # NG 개수\n",
    "        self.TotalLine = self.findChild(QLabel, \"TotalLine\") # 총 개수 \n",
    "        self.Class1Line = self.findChild(QLabel,\"Class1Line\") # 불량 유형 1 개수\n",
    "        self.Class2Line = self.findChild(QLabel,\"Class2Line\")  # 불량 유형 2 개수\n",
    "        self.Class3Line = self.findChild(QLabel,\"Class3Line\") # 불량 유형 3 개수\n",
    "        self.CM = self.findChild(QLabel, \"CM\")\n",
    "        \n",
    "        self.CM.setStyleSheet(\"color: rgb(255,0,0);\")\n",
    "        \n",
    "        self.tableWidget= self.findChild(QTableWidget,\"tableWidget\")\n",
    "        self.tableWidget.cellDoubleClicked.connect(self.cellchanged_event)\n",
    "        self.tableWidget.setColumnCount(3)\n",
    "        self.tableWidget.setEditTriggers(QAbstractItemView.NoEditTriggers)\n",
    "        \n",
    "        savepath= 'C:/검사 결과'\n",
    "        self.savepath = savepath\n",
    "        self.saving= self.findChild(QLabel,\"saving\")\n",
    "        self.saving.setText('C:/검사 결과')\n",
    "        mode =''\n",
    "        self.mode=mode \n",
    "        \n",
    "    def save(self):# 결과를 엑셀로 저장할 경로\n",
    "        savepath = QFileDialog.getExistingDirectory(self,'폴더 저장 경로')\n",
    "        self.savepath = savepath\n",
    "        if (self.savepath != 'C:/제품 결과'):\n",
    "            self.saving.setText(str(self.savepath))\n",
    "                    \n",
    "    def num1(self):# 1번 제품으로 변경\n",
    "        mode = self.resource_path(\"99.64877_4.pth\")\n",
    "        QMessageBox.about(self,'제품 선택','첫 번째 제품입니다.')\n",
    "        self.mode = mode\n",
    "        \n",
    "        \n",
    "    def num2(self):# 2번 제품으로 변경\n",
    "        mode = self.resource_path(\"99.48951_16.pth\")\n",
    "        QMessageBox.about(self,'제품 선택','두 번째 제품입니다.')\n",
    "        self.mode = mode\n",
    "        \n",
    "    \n",
    "    def reset_event(self): # 지금까지의 결과 초기화 시키는 함수\n",
    "        option = QMessageBox.question(self,'검사 종료','검사를 종료하시겠습니까?',QMessageBox.Yes | QMessageBox.No)\n",
    "        if option == QMessageBox.Yes:\n",
    "        \n",
    "            self.CM.clear()\n",
    "            self.ERLine.clear()\n",
    "            self.Class1Line.clear()\n",
    "            self.Class2Line.clear()\n",
    "            self.Class3Line.clear()\n",
    "            self.NormalLine.clear()\n",
    "            self.TotalLine.clear()\n",
    "            self.tableWidget.setRowCount(0)\n",
    "            self.image_label.clear()\n",
    "            self.Path.clear()        \n",
    "            self.image_label2.clear()\n",
    "            \n",
    "            self.NGLine.clear()\n",
    "        \n",
    "    def getFolderName(self): #파일을 불러오고 개수 미리 확인\n",
    "        \n",
    "            \n",
    "        if (self.mode ==''):\n",
    "            QMessageBox.warning(self,\"모드 설정 오류\",\"분류할 제품을 설정하세요.\")\n",
    "        \n",
    "            \n",
    "        elif (self.mode != '' and self.savepath != ''):\n",
    "            folderName = QFileDialog.getExistingDirectory(self,'검사할 폴더 선택')\n",
    "            self.Path.setText(str(folderName))\n",
    "            path = self.Path.text()\n",
    "            files = os.listdir(path)\n",
    "            image_list_tif= [file for file in files if not file.endswith(\"(ER).tif\")]\n",
    "            image_error_tif=[file for file in files if file.endswith(\"(ER).tif\")]\n",
    "            df = pd.DataFrame(image_list_tif, columns=['a'])\n",
    "\n",
    "            real_image_list_tif = []\n",
    "            for i in range(len(image_list_tif)):\n",
    "                real_image_list_tif.append(image_list_tif[i][image_list_tif[i].find(\"(\")+1:image_list_tif[i].find(\")\")])\n",
    "\n",
    "            df['b'] = real_image_list_tif\n",
    "            df = df.astype({'b':'float'})\n",
    "\n",
    "            df1 = df[df['b']<0.0015]\n",
    "            df2 = df[df['b']>=0.0015]\n",
    "\n",
    "            image_pass_tif = df1['a'].to_list()                                              \n",
    "            image_ng_tif = df2['a'].to_list()\n",
    "\n",
    "            files_count = image_ng_tif.__len__()\n",
    "            self.files_count= files_count\n",
    "            self.tableWidget.setRowCount(files_count)\n",
    "            self.df = df\n",
    "\n",
    "            self.list_tif = image_ng_tif\n",
    "            error_count = image_error_tif.__len__()\n",
    "            normal_count = image_pass_tif.__len__()\n",
    "            check_count = image_ng_tif.__len__()\n",
    "            total_count = error_count + normal_count + check_count\n",
    "            self.folderName = path\n",
    "            self.ERLine.setText(str(error_count))\n",
    "            self.NormalLine.setText(str(normal_count))\n",
    "            self.TotalLine.setText(str(total_count))\n",
    "            self.NGLine.setText(str(check_count))\n",
    "            for i in range(files_count):\n",
    "                self.tableWidget.setItem(i,0,QTableWidgetItem(image_ng_tif[i]))\n",
    "\n",
    "            if check_count == 0 : #NG 없음\n",
    "                if error_count + normal_count == total_count: #ER과 Pass만 있을 때\n",
    "                    if error_count == 0:                        #Pass만 있을 때\n",
    "                        self.CM.setText(str(\"검사를 종료합니다.\"))\n",
    "                    elif normal_count == 0:                     #ER만 있을 때\n",
    "                        self.CM.setText(str(\"재검사가 필요합니다.\"))\n",
    "                    else :                                      #ER과 Pass가 섞여있을 때\n",
    "                        self.CM.setText(str(\"재검사가 필요합니다.\"))\n",
    "            self.image_error_tif = image_error_tif\n",
    "            self.image_ng_tif = image_ng_tif\n",
    "            self.image_list_tif = image_list_tif\n",
    "            self.image_list = image_error_tif + image_list_tif\n",
    "                                \n",
    "           \n",
    "    def runRes(self):\n",
    "        def showmessagebox(self,title,message):\n",
    "            msgbox = QMessageBox()\n",
    "            msgbox.resize(200,100)\n",
    "            msgbox.setIcon(QMessageBox.Information)\n",
    "            msgbox.setWindowTitle(title)\n",
    "            msgbox.setText(message)\n",
    "            msgbox.setStandardButtons(QMessageBox.Ok)\n",
    "            msgbox.exec_()   \n",
    "        \n",
    "        showmessagebox(self,'검사 소요 시간','약 %.2f분 소요' %(0.055*self.image_ng_tif.__len__()/60))\n",
    "        \n",
    "        self.y = Res21.run(self.folderName,self.mode)\n",
    "        \n",
    "        self.Class1Line.setText(str(self.y[0]))\n",
    "        self.Class2Line.setText(str(self.y[2]))\n",
    "        self.Class3Line.setText(str(self.y[1]))\n",
    "        \n",
    "        if (self.y[0] > 0):\n",
    "            self.Class1Line.setStyleSheet(\"color: rgb(255,0,0);\")\n",
    "        else : \n",
    "            self.Class1Line.setStyleSheet(\"color: rgb(0,0,0);\")\n",
    "        if (self.y[1] > 0):\n",
    "            self.Class3Line.setStyleSheet(\"color: rgb(255,0,0);\")\n",
    "        else :\n",
    "            self.Class3Line.setStyleSheet(\"color: rgb(0,0,0);\")\n",
    "        if (self.y[2] > 0):\n",
    "            self.Class2Line.setStyleSheet(\"color: rgb(255,0,0);\")\n",
    "        else : \n",
    "            self.Class2Line.setStyleSheet(\"color: rgb(0,0,0);\")\n",
    "            \n",
    "        if (self.y[0] > 0 or self.y[2] > 0 ) :  #NG 있음, 0이랑 1이 있음\n",
    "            self.CM.setText(str(\"재가공이 필요합니다.\"))\n",
    "            \n",
    "        elif (self.y[0] == 0 and self.y[2] == 0 and self.y[1] > 0): #NG 있음, 2만 있음\n",
    "            self.CM.setText(str(\"재검사가 필요합니다.\"))\n",
    "       \n",
    "            \n",
    "        \n",
    "        files_count = self.list_tif.__len__()\n",
    "        \n",
    "        \n",
    "        for i in range(files_count):\n",
    "            self.tableWidget.setItem(i,1,QTableWidgetItem(str(self.y[3][i])))\n",
    "            colordata = self.tableWidget.item(i,1)\n",
    "            colordata = colordata.text()\n",
    "            if colordata =='불량 유형 1':\n",
    "                self.tableWidget.item(i, 1).setBackground(QColor(153,204,255))\n",
    "                self.tableWidget.item(i, 0).setBackground(QColor(153,204,255))\n",
    "            elif colordata == '불량 유형 2':\n",
    "                self.tableWidget.item(i, 1).setBackground(QColor(255,204,255))\n",
    "                self.tableWidget.item(i, 0).setBackground(QColor(255,204,255))\n",
    "            elif colordata == '불량 유형 3':\n",
    "                self.tableWidget.item(i, 1).setBackground(QColor(255,255,153))\n",
    "                self.tableWidget.item(i, 0).setBackground(QColor(255,255,153))\n",
    "               \n",
    "            \n",
    "        for i in range(files_count): \n",
    "            pathpath= self.Path.text()+ '/'+self.list_tif[i]\n",
    "            pic = QPixmap(pathpath)\n",
    "            pic = pic.scaled(QSize(128,128))\n",
    "            self.label12 = QLabel()\n",
    "            self.label12.setPixmap(pic)\n",
    "            self.tableWidget.setCellWidget(i,2,(self.label12))\n",
    "            \n",
    "            \n",
    "        self.tableWidget.resizeColumnsToContents()        \n",
    "        self.tableWidget.resizeRowsToContents\n",
    "        \n",
    "        dfer = pd.DataFrame(self.image_error_tif, columns=['파일명'])\n",
    "        mm = []\n",
    "        for i in range(len(self.image_error_tif)):\n",
    "            mm.append(self.image_error_tif[i][:self.image_error_tif[i].find(\"(\")])            \n",
    "        dfer['측정 위치'] = mm\n",
    "        dfer['측정 오차'] = '0'\n",
    "        dfer = dfer.astype({'측정 위치':'float'})\n",
    "        dfer = dfer.astype({'측정 오차':'int'})\n",
    "        dfer['기준값']= '0.0015'\n",
    "        dfer=dfer.astype({'기준값':'float'})\n",
    "        dfer['상태']='ERR'\n",
    "\n",
    "\n",
    "        dff = pd.DataFrame(self.image_list_tif, columns=['파일명'])\n",
    "        mm = []\n",
    "        for i in range(len(self.image_list_tif)):\n",
    "            mm.append(self.image_list_tif[i][:self.image_list_tif[i].find(\"(\")])            \n",
    "        real=[]\n",
    "        for i in range(len(self.image_list_tif)):\n",
    "            real.append(self.image_list_tif[i][self.image_list_tif[i].find(\"(\")+1:self.image_list_tif[i].find(\")\")])\n",
    "        dff['측정 위치'] = mm\n",
    "        dff['측정 오차'] = real\n",
    "        dff = dff.astype({'측정 위치':'float'})\n",
    "        dff = dff.astype({'측정 오차':'float'})\n",
    "        dff['기준값']= '0.0015'\n",
    "        dff=dff.astype({'기준값':'float'})        \n",
    "        e = []\n",
    "        for i in range(len(dff)):\n",
    "            if float(dff.loc[i,['측정 오차']]) - float(dff.loc[i,['기준값']]) >= 0:\n",
    "                e.append('NG')\n",
    "            elif float(dff.loc[i,['측정 오차']]) - float(dff.loc[i,['기준값']]) < 0:\n",
    "                e.append('OK')\n",
    "        dff['상태']= e\n",
    "\n",
    "\n",
    "        df = pd.DataFrame(self.image_list,columns=['파일명'])\n",
    "        df2=pd.DataFrame(self.image_ng_tif,columns=['파일명'])\n",
    "        df2['오류명'] = self.y[3]\n",
    "        df3 = pd.merge(dff,df2, how='outer',on='파일명')\n",
    "        newdf = pd.DataFrame(self.image_list, columns=['파일명'])\n",
    "        newdf1 = pd.merge(df3, newdf, how='outer', on='파일명')\n",
    "        newdf2 = pd.concat([df3, dfer])\n",
    "        newdf3 = newdf2.sort_values('파일명')\n",
    "        newdf3.reset_index(inplace=True)\n",
    "        newdf3 = newdf3.drop('index', axis='columns')\n",
    "        newdf = newdf3.drop('파일명', axis='columns')\n",
    "        \n",
    "             \n",
    "        \n",
    "        file_path = self.Path.text()\n",
    "        prod_id = file_path[file_path.rfind('/')+1:]\n",
    "        dff.drop('파일명', axis = 'columns')\n",
    "        from datetime import datetime \n",
    "        now = datetime.now()\n",
    "        timenow = str(now.year)[-2:]+'년'+str(now.month)+'월'+str(now.day)+'일 '+str(now.hour)+'시'+str(now.minute)+'분'+str(now.second)+'초'\n",
    "        csv_name = prod_id+'('+timenow+')'\n",
    "       \n",
    "        newdf.to_csv(f'{self.savepath}/{csv_name}.csv', header=False, index=False, mode='w', encoding='cp949')\n",
    "        \n",
    "        \n",
    "        \n",
    "\n",
    "        \n",
    "    def cellchanged_event(self,row,column):\n",
    "        data = self.tableWidget.item(row,int(column-2))\n",
    "        data3 = self.tableWidget.item(row,int(column-1))\n",
    "        data3 = data3.text()\n",
    "        data = data.text()\n",
    "        data2 = self.Path.text()+'/'+str(data)\n",
    "        pic = QPixmap(data2)\n",
    "        pic = pic.scaled(QSize(256,256))\n",
    "        self.image_label.setPixmap(pic)\n",
    "        self.image_label2.setText(data +\"  :   \" +data3 )\n",
    "    \n",
    "    \n",
    "    def onchanged(self,comboBox):\n",
    "        if self.comboBox.currentText() =='불량 유형 1':\n",
    "             for i in range(self.list_tif.__len__()):\n",
    "                for j in range(2):\n",
    "                    item = self.tableWidget.item(i, j)\n",
    "                    match = self.comboBox.currentText() not in item.text().lower()\n",
    "                    self.tableWidget.setRowHidden(i, match)\n",
    "                    if not match:\n",
    "                        break\n",
    "        elif self.comboBox.currentText() =='불량 유형 2':\n",
    "             for i in range(self.list_tif.__len__()):\n",
    "                for j in range(2):\n",
    "                    item = self.tableWidget.item(i, j)\n",
    "                    match = self.comboBox.currentText() not in item.text().lower()\n",
    "                    self.tableWidget.setRowHidden(i, match)\n",
    "                    if not match:\n",
    "                        break\n",
    "        elif self.comboBox.currentText() =='불량 유형 3':\n",
    "             for i in range(self.list_tif.__len__()):\n",
    "                for j in range(2):\n",
    "                    item = self.tableWidget.item(i, j)\n",
    "                    match = self.comboBox.currentText() not in item.text().lower()\n",
    "                    self.tableWidget.setRowHidden(i, match)\n",
    "                    if not match:\n",
    "                        break\n",
    "        elif self.comboBox.currentText() =='전체':\n",
    "             for i in range(self.list_tif.__len__()):\n",
    "                for j in range(2):\n",
    "                    item = self.tableWidget.item(i, j)\n",
    "                    match = self.comboBox.currentText() not in item.text().lower()\n",
    "                    self.tableWidget.setRowHidden(i, not match)\n",
    "                    if match:\n",
    "                        break\n",
    "   \n",
    "if __name__ == \"__main__\":\n",
    "    app = QApplication(sys.argv)\n",
    "    myWindow = WindowClass()\n",
    "    \n",
    "    myWindow.show()\n",
    "    app.exec_()"
   ]
  },
  {
   "cell_type": "code",
   "execution_count": null,
   "id": "fa6e3541",
   "metadata": {},
   "outputs": [],
   "source": []
  }
 ],
 "metadata": {
  "kernelspec": {
   "display_name": "Python 3 (ipykernel)",
   "language": "python",
   "name": "python3"
  },
  "language_info": {
   "codemirror_mode": {
    "name": "ipython",
    "version": 3
   },
   "file_extension": ".py",
   "mimetype": "text/x-python",
   "name": "python",
   "nbconvert_exporter": "python",
   "pygments_lexer": "ipython3",
   "version": "3.9.16"
  }
 },
 "nbformat": 4,
 "nbformat_minor": 5
}
